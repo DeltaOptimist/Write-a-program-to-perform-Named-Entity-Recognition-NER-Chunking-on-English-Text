{
  "nbformat": 4,
  "nbformat_minor": 0,
  "metadata": {
    "colab": {
      "name": "Write a program to perform Named Entity Recognition (NER) & Chunking on English Text.ipynb",
      "provenance": []
    },
    "kernelspec": {
      "name": "python3",
      "display_name": "Python 3"
    },
    "language_info": {
      "name": "python"
    }
  },
  "cells": [
    {
      "cell_type": "markdown",
      "metadata": {
        "id": "Gr65FA_uvxiU"
      },
      "source": [
        "# Named Entity Recognition\n"
      ]
    },
    {
      "cell_type": "code",
      "metadata": {
        "colab": {
          "base_uri": "https://localhost:8080/"
        },
        "id": "88IQVjI7v-7d",
        "outputId": "15dc448a-f695-47f1-95fb-43623afe373c"
      },
      "source": [
        "import nltk\n",
        "nltk.download('punkt')\n",
        "nltk.download('averaged_perceptron_tagger')\n",
        "nltk.download('maxent_ne_chunker')\n",
        "nltk.download('words')"
      ],
      "execution_count": 34,
      "outputs": [
        {
          "output_type": "stream",
          "text": [
            "[nltk_data] Downloading package punkt to /root/nltk_data...\n",
            "[nltk_data]   Package punkt is already up-to-date!\n",
            "[nltk_data] Downloading package averaged_perceptron_tagger to\n",
            "[nltk_data]     /root/nltk_data...\n",
            "[nltk_data]   Package averaged_perceptron_tagger is already up-to-\n",
            "[nltk_data]       date!\n",
            "[nltk_data] Downloading package maxent_ne_chunker to\n",
            "[nltk_data]     /root/nltk_data...\n",
            "[nltk_data]   Package maxent_ne_chunker is already up-to-date!\n",
            "[nltk_data] Downloading package words to /root/nltk_data...\n",
            "[nltk_data]   Package words is already up-to-date!\n"
          ],
          "name": "stdout"
        },
        {
          "output_type": "execute_result",
          "data": {
            "text/plain": [
              "True"
            ]
          },
          "metadata": {
            "tags": []
          },
          "execution_count": 34
        }
      ]
    },
    {
      "cell_type": "code",
      "metadata": {
        "id": "8GthITvnvqgl"
      },
      "source": [
        "# Importing the libraries\n",
        "from nltk.tokenize import word_tokenize\n",
        "from nltk.tag import pos_tag\n",
        "from nltk.chunk import ne_chunk"
      ],
      "execution_count": 35,
      "outputs": []
    },
    {
      "cell_type": "code",
      "metadata": {
        "id": "v_HOHExSv0Z6"
      },
      "source": [
        "# Importing the data\n",
        "dataset = \"\"\"Abraham Lincoln was an American statesman and lawyer \n",
        "              who served as the 16th President of the United States\"\"\""
      ],
      "execution_count": 36,
      "outputs": []
    },
    {
      "cell_type": "code",
      "metadata": {
        "colab": {
          "base_uri": "https://localhost:8080/"
        },
        "id": "-r-ZKCOtv7Ty",
        "outputId": "1a0f4e32-173c-47b4-a283-1a756184058d"
      },
      "source": [
        "# Tokenize and tagging the data\n",
        "dataset_tag = pos_tag(word_tokenize(dataset))\n",
        "dataset_tag"
      ],
      "execution_count": 37,
      "outputs": [
        {
          "output_type": "execute_result",
          "data": {
            "text/plain": [
              "[('Abraham', 'NNP'),\n",
              " ('Lincoln', 'NNP'),\n",
              " ('was', 'VBD'),\n",
              " ('an', 'DT'),\n",
              " ('American', 'JJ'),\n",
              " ('statesman', 'NN'),\n",
              " ('and', 'CC'),\n",
              " ('lawyer', 'NN'),\n",
              " ('who', 'WP'),\n",
              " ('served', 'VBD'),\n",
              " ('as', 'IN'),\n",
              " ('the', 'DT'),\n",
              " ('16th', 'CD'),\n",
              " ('President', 'NNP'),\n",
              " ('of', 'IN'),\n",
              " ('the', 'DT'),\n",
              " ('United', 'NNP'),\n",
              " ('States', 'NNPS')]"
            ]
          },
          "metadata": {
            "tags": []
          },
          "execution_count": 37
        }
      ]
    },
    {
      "cell_type": "code",
      "metadata": {
        "colab": {
          "base_uri": "https://localhost:8080/"
        },
        "id": "JE45F6uhv8zJ",
        "outputId": "b4ced5e6-e32e-428a-919c-d8f9a1a89c8a"
      },
      "source": [
        "# Apply Named Entity Recognition with ne_chunk\n",
        "data_ner = ne_chunk(dataset_tag)\n",
        "print(data_ner)"
      ],
      "execution_count": 38,
      "outputs": [
        {
          "output_type": "stream",
          "text": [
            "(S\n",
            "  (PERSON Abraham/NNP)\n",
            "  (PERSON Lincoln/NNP)\n",
            "  was/VBD\n",
            "  an/DT\n",
            "  (GPE American/JJ)\n",
            "  statesman/NN\n",
            "  and/CC\n",
            "  lawyer/NN\n",
            "  who/WP\n",
            "  served/VBD\n",
            "  as/IN\n",
            "  the/DT\n",
            "  16th/CD\n",
            "  President/NNP\n",
            "  of/IN\n",
            "  the/DT\n",
            "  (GPE United/NNP States/NNPS))\n"
          ],
          "name": "stdout"
        }
      ]
    },
    {
      "cell_type": "markdown",
      "metadata": {
        "id": "crQ0Oa529G2B"
      },
      "source": [
        "# Chunking\n"
      ]
    },
    {
      "cell_type": "code",
      "metadata": {
        "id": "L4wfYiIp9GB7"
      },
      "source": [
        "# Importing the libraries\n",
        "import nltk\n",
        "from nltk.tokenize import word_tokenize\n",
        "from nltk.tag import pos_tag\n",
        "from nltk.chunk import RegexpParser"
      ],
      "execution_count": 40,
      "outputs": []
    },
    {
      "cell_type": "code",
      "metadata": {
        "id": "ox_AjvEI9J_r"
      },
      "source": [
        "#Importing the data\n",
        "dataset = \"\"\"Taj Mahal is one of the world’s most celebrated structures \n",
        "          in the world.\n",
        "          It is a stunning symbol of Indian rich history\"\"\""
      ],
      "execution_count": 42,
      "outputs": []
    },
    {
      "cell_type": "code",
      "metadata": {
        "colab": {
          "base_uri": "https://localhost:8080/"
        },
        "id": "mPay8JG69MZ7",
        "outputId": "3a2f240b-6018-40ae-d528-5073a3355083"
      },
      "source": [
        "# Tokenize the data\n",
        "new_data = word_tokenize(dataset)\n",
        "print(new_data)"
      ],
      "execution_count": 43,
      "outputs": [
        {
          "output_type": "stream",
          "text": [
            "['Taj', 'Mahal', 'is', 'one', 'of', 'the', 'world', '’', 's', 'most', 'celebrated', 'structures', 'in', 'the', 'world', '.', 'It', 'is', 'a', 'stunning', 'symbol', 'of', 'Indian', 'rich', 'history']\n"
          ],
          "name": "stdout"
        }
      ]
    },
    {
      "cell_type": "code",
      "metadata": {
        "colab": {
          "base_uri": "https://localhost:8080/"
        },
        "id": "mX2JfFAA9PyG",
        "outputId": "762f0c9f-dbdc-4d05-ad4e-c37fc2165cd3"
      },
      "source": [
        "# Apply the POS Tagging\n",
        "postagging = pos_tag(new_data)\n",
        "print(postagging)"
      ],
      "execution_count": 44,
      "outputs": [
        {
          "output_type": "stream",
          "text": [
            "[('Taj', 'NNP'), ('Mahal', 'NNP'), ('is', 'VBZ'), ('one', 'CD'), ('of', 'IN'), ('the', 'DT'), ('world', 'NN'), ('’', 'NNP'), ('s', 'VBZ'), ('most', 'JJS'), ('celebrated', 'JJ'), ('structures', 'NNS'), ('in', 'IN'), ('the', 'DT'), ('world', 'NN'), ('.', '.'), ('It', 'PRP'), ('is', 'VBZ'), ('a', 'DT'), ('stunning', 'JJ'), ('symbol', 'NN'), ('of', 'IN'), ('Indian', 'JJ'), ('rich', 'JJ'), ('history', 'NN')]\n"
          ],
          "name": "stdout"
        }
      ]
    },
    {
      "cell_type": "code",
      "metadata": {
        "id": "qh8PEyIv9R4h"
      },
      "source": [
        "# Define the sequence of Chunk\n",
        "sequence_chunk = \"\"\" \n",
        "           chunk:\n",
        "               {<NNPS>+}\n",
        "               {<NNP>+}\n",
        "               {<NN>+} \"\"\""
      ],
      "execution_count": 45,
      "outputs": []
    },
    {
      "cell_type": "code",
      "metadata": {
        "id": "8aN32_mq9UGu"
      },
      "source": [
        "# Create object with Regular Expression               \n",
        "chunk = RegexpParser(sequence_chunk)"
      ],
      "execution_count": 46,
      "outputs": []
    },
    {
      "cell_type": "code",
      "metadata": {
        "colab": {
          "base_uri": "https://localhost:8080/"
        },
        "id": "28y1Y27k9V65",
        "outputId": "2e4916db-22b0-4b28-f0ef-584f9f27bf90"
      },
      "source": [
        "# Final Step\n",
        "chunk_result = chunk.parse(postagging)\n",
        "print(chunk_result)"
      ],
      "execution_count": 47,
      "outputs": [
        {
          "output_type": "stream",
          "text": [
            "(S\n",
            "  (chunk Taj/NNP Mahal/NNP)\n",
            "  is/VBZ\n",
            "  one/CD\n",
            "  of/IN\n",
            "  the/DT\n",
            "  (chunk world/NN)\n",
            "  (chunk ’/NNP)\n",
            "  s/VBZ\n",
            "  most/JJS\n",
            "  celebrated/JJ\n",
            "  structures/NNS\n",
            "  in/IN\n",
            "  the/DT\n",
            "  (chunk world/NN)\n",
            "  ./.\n",
            "  It/PRP\n",
            "  is/VBZ\n",
            "  a/DT\n",
            "  stunning/JJ\n",
            "  (chunk symbol/NN)\n",
            "  of/IN\n",
            "  Indian/JJ\n",
            "  rich/JJ\n",
            "  (chunk history/NN))\n"
          ],
          "name": "stdout"
        }
      ]
    },
    {
      "cell_type": "code",
      "metadata": {
        "id": "Ug2Qwuvn9X2_"
      },
      "source": [
        ""
      ],
      "execution_count": null,
      "outputs": []
    }
  ]
}